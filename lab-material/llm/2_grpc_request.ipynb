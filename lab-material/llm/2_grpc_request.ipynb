{
 "cells": [
  {
   "cell_type": "markdown",
   "id": "5ddd6b9e-6c0a-405d-8e7a-0ca7c781a20b",
   "metadata": {
    "tags": []
   },
   "source": [
    "# gRPC Requests with Text Generation Inference Server\n",
    "\n",
    "Change that following variable settings match your deployed model's *Inference endpoint*. for example: \n",
    "\n",
    "```\n",
    "infer_endpoint = \"https://flan-t5-small-predictor-userx-workshop.apps.clusterx.sandboxx.opentlc.com\"\n",
    "```\n"
   ]
  },
  {
   "cell_type": "code",
   "execution_count": null,
   "id": "ae4684dc-b550-47f7-a053-abbbf1799e84",
   "metadata": {
    "tags": []
   },
   "outputs": [],
   "source": [
    "model_id = \"flan-t5-small\"\n",
    "grpc_port = 433\n",
    "infer_endpoint = \"https://flan-t5-small-predictor.project.cluster.com\""
   ]
  },
  {
   "cell_type": "markdown",
   "id": "7550fa08-4018-417a-b68f-459798380345",
   "metadata": {},
   "source": [
    "The UI doesn't currently show the gRPC endpoint, but we can derive the hostname from the `inference endpoint` "
   ]
  },
  {
   "cell_type": "code",
   "execution_count": null,
   "id": "30d5023e-df32-4a69-863e-4e469e0f93bc",
   "metadata": {
    "tags": []
   },
   "outputs": [],
   "source": [
    "import re\n",
    "\n",
    "hostname = re.sub(\"https://|http://\", \"\", infer_endpoint)\n",
    "if hostname[-1] == \"/\":\n",
    "    hostname = hostname[:-1]\n",
    "\n",
    "hostname"
   ]
  },
  {
   "cell_type": "markdown",
   "id": "4827495a-87f5-44e9-8443-33dce3a632d9",
   "metadata": {},
   "source": [
    "### Request Function\n",
    "\n",
    "Build and submit the gRPC request. \n",
    "\n",
    "We're using the `TgisGrpcClient` class from the `utils` directory.  If you're curious about the gRPC code, it's in the [utils/tgis_grpc_client.py](utils/tgis_grpc_client.py) file."
   ]
  },
  {
   "cell_type": "code",
   "execution_count": null,
   "id": "7d98c829-7f97-4ed8-80af-2fab704f8ba9",
   "metadata": {
    "tags": []
   },
   "outputs": [],
   "source": [
    "import sys\n",
    "sys.path.append('./utils')\n",
    "\n",
    "from utils.tgis_grpc_client import TgisGrpcClient\n",
    "\n",
    "client = TgisGrpcClient(\n",
    "    hostname,\n",
    "    443,\n",
    "    verify=False,\n",
    ")\n",
    "\n",
    "client.make_request(\"At what temperature does Nitrogen boil?\", model_id=model_id)"
   ]
  },
  {
   "cell_type": "code",
   "execution_count": null,
   "id": "53d20dd8-66e2-465a-a346-d0e1a076244f",
   "metadata": {},
   "outputs": [],
   "source": []
  }
 ],
 "metadata": {
  "kernelspec": {
   "display_name": "Python 3.9",
   "language": "python",
   "name": "python3"
  },
  "language_info": {
   "codemirror_mode": {
    "name": "ipython",
    "version": 3
   },
   "file_extension": ".py",
   "mimetype": "text/x-python",
   "name": "python",
   "nbconvert_exporter": "python",
   "pygments_lexer": "ipython3",
   "version": "3.9.18"
  }
 },
 "nbformat": 4,
 "nbformat_minor": 5
}

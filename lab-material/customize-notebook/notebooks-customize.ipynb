{
 "cells": [
  {
   "cell_type": "markdown",
   "metadata": {},
   "source": [
    "# Customizing your Workbench with Pip\n",
    "\n",
    "You can use the package installer for Python (`pip`) to install Python packages.\n",
    "With `pip`, you can customize your workbench, by installing libraries (or different versions of those libraries) that are initially not included in the workbench.\n",
    "\n",
    "> **NOTE**\n",
    ">\n",
    "> The use of the `Conda` package manager is also common in the data science ecosystem.\n",
    "> The default notebook images shipped with RHODS do not include `conda`.\n",
    "> If you require `conda` in your environments, you can [enable the Anaconda Professional Edition SaaS-based service in RHOAI](https://access.redhat.com/documentation/en-us/red_hat_openshift_ai_self-managed/2.6/html/getting_started_with_red_hat_openshift_ai_self-managed/enabling-services_get-started).\n",
    " \n",
    "\n",
    "To run pip in a workbench, you have three options:\n",
    "\n",
    "* Open a terminal from the Launcher and run the `pip` command as usual.\n",
    "* In a notebook file, use the `!` prefix.\n",
    "* In a notebook file, use the `%` prefix."
   ]
  },
  {
   "cell_type": "markdown",
   "metadata": {},
   "source": [
    "## The `!` prefix\n",
    "\n",
    "The `!` prefix allows you to run a shell command in a code cell.\n",
    "For example:"
   ]
  },
  {
   "cell_type": "code",
   "execution_count": null,
   "metadata": {},
   "outputs": [],
   "source": [
    "!pwd"
   ]
  },
  {
   "cell_type": "markdown",
   "metadata": {},
   "source": [
    "When you use the `!` prefix, Juypter lab launches the given command in a separate process."
   ]
  },
  {
   "cell_type": "markdown",
   "metadata": {},
   "source": [
    "## The `%` Prefix\n",
    "\n",
    "By using the `%` prefix, you can run _magic commands_, which are special Juypter/IPython commands.\n",
    "There are several commands available, such as `%pip`, `%alias`, or `%env`.\n",
    "For a complete list, see https://ipython.readthedocs.io/en/stable/interactive/magics.html\n",
    "\n",
    "> **⚠️ WARNING**\n",
    ">\n",
    "> Although you can run `pip` by using either prefix, using `%pip` is generally the recommended option.\n",
    "> The `%` prefix ensures that the packages are installed in the current kernel.\n",
    "> Depending on your workbench, using `!pip` might install the dependencies on a different Python environment, if the `pip` command is not associated with the kernel that runs the notebook."
   ]
  },
  {
   "cell_type": "markdown",
   "metadata": {},
   "source": [
    "## Listing Installed Packages\n",
    "\n",
    "List the installed packages in this workbench by using the `pip list` command:"
   ]
  },
  {
   "cell_type": "code",
   "execution_count": null,
   "metadata": {},
   "outputs": [],
   "source": [
    "%pip list"
   ]
  },
  {
   "cell_type": "markdown",
   "metadata": {},
   "source": [
    "## Installing a Package\n",
    "\n",
    "Assume that you want to use the `seaborn` package to plot better graphics.\n",
    "However, this package is not included in the `Standard Data Science` workbench.\n",
    "\n",
    "You can Install the package with `pip`."
   ]
  },
  {
   "cell_type": "code",
   "execution_count": null,
   "metadata": {},
   "outputs": [],
   "source": [
    "%pip install seaborn"
   ]
  },
  {
   "cell_type": "markdown",
   "metadata": {},
   "source": [
    "Now that `seaborn` is installed in the workbench, you can use it.\n",
    "\n",
    "First, import the package:"
   ]
  },
  {
   "cell_type": "code",
   "execution_count": null,
   "metadata": {},
   "outputs": [],
   "source": [
    "import seaborn"
   ]
  },
  {
   "cell_type": "markdown",
   "metadata": {},
   "source": [
    "Then, use the package to build and plot a graphic.\n",
    "The following cell downloads the `dots` example dataset from the seaborn online repository and plots the data."
   ]
  },
  {
   "cell_type": "code",
   "execution_count": null,
   "metadata": {},
   "outputs": [],
   "source": [
    "# load an example dataset from the seaborn online repo\n",
    "dots = seaborn.load_dataset(\"dots\")\n",
    "\n",
    "# plot\n",
    "seaborn.relplot(\n",
    "    data=dots,\n",
    "    kind=\"line\",\n",
    "    x=\"time\",\n",
    "    y=\"firing_rate\",\n",
    "    col=\"align\",\n",
    "    hue=\"coherence\",\n",
    "    size=\"coherence\",\n",
    "    style=\"choice\",\n",
    "    facet_kws=dict(sharex=False),\n",
    ")"
   ]
  },
  {
   "cell_type": "markdown",
   "metadata": {},
   "source": [
    "## Using a Requirements File\n",
    "\n",
    "In Python projects, using a _requirements_ file is a popular best practice.\n",
    "\n",
    "This file specifies all the packages and versions of the whole dependency tree that you need in a project.\n",
    "\n",
    "Inspect the provided requirements file.\n",
    "This is an example file which contains two example dependencies, `pytest`, a testing framework, and `tomli`, a TOML parser."
   ]
  },
  {
   "cell_type": "code",
   "execution_count": null,
   "metadata": {},
   "outputs": [],
   "source": [
    "!cat requirements.txt"
   ]
  },
  {
   "cell_type": "markdown",
   "metadata": {},
   "source": [
    "The `==` version operator specifies that the installed version must exactly match the given version.\n",
    "\n",
    "Other operators exist, such as `>`, `>=`, or `~=`.\n",
    "For the full list, see https://peps.python.org/pep-0440/#version-specifiers\n",
    "\n",
    "To install all the packages specified in the requirements file, run:"
   ]
  },
  {
   "cell_type": "code",
   "execution_count": null,
   "metadata": {},
   "outputs": [],
   "source": [
    "%pip install -r requirements.txt"
   ]
  },
  {
   "cell_type": "markdown",
   "metadata": {},
   "source": [
    "### Freezing the Dependency Tree\n",
    "\n",
    "To ensure that you always work with the same dependency tree, you can freeze your dependency tree into a requirements file."
   ]
  },
  {
   "cell_type": "code",
   "execution_count": null,
   "metadata": {},
   "outputs": [],
   "source": [
    "%pip freeze > requirements_full.txt"
   ]
  },
  {
   "cell_type": "code",
   "execution_count": null,
   "metadata": {},
   "outputs": [],
   "source": [
    "!cat requirements_full.txt"
   ]
  },
  {
   "cell_type": "markdown",
   "metadata": {},
   "source": [
    "You can now use the generated requirements file to ensure that your dependency tree is locked."
   ]
  },
  {
   "cell_type": "code",
   "execution_count": null,
   "metadata": {},
   "outputs": [],
   "source": [
    "%pip install -r requirements_full.txt"
   ]
  },
  {
   "cell_type": "markdown",
   "metadata": {},
   "source": [
    "> **IMPORTANT**\n",
    ">\n",
    "> You might break the workbench if you use a requirements file that has been generated in an external environment, such as your laptop.\n",
    "> If possible, do not modify the library versions that are preinstalled in the workbench.\n",
    "> These versions have been tested by Red Hat and provide a stable working environment.\n",
    ">\n",
    "> If you need to make major changes to the dependency tree of a workbench, you might want to use your own custom image.\n",
    "> In this case, you must build a custom notebook image and add this image to RHODS."
   ]
  }
 ],
 "metadata": {
  "kernelspec": {
   "display_name": "Python 3.9",
   "language": "python",
   "name": "python3"
  },
  "language_info": {
   "codemirror_mode": {
    "name": "ipython",
    "version": 3
   },
   "file_extension": ".py",
   "mimetype": "text/x-python",
   "name": "python",
   "nbconvert_exporter": "python",
   "pygments_lexer": "ipython3",
   "version": "3.9.16"
  }
 },
 "nbformat": 4,
 "nbformat_minor": 4
}
